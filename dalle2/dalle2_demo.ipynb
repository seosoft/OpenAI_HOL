{
  "cells": [
    {
      "cell_type": "markdown",
      "metadata": {},
      "source": [
        "# DALL-E 2 デモ"
      ]
    },
    {
      "cell_type": "markdown",
      "metadata": {},
      "source": [
        "[**OpenAI の API Key**](https://beta.openai.com/account/api-keys) を生成して以下に設定"
      ]
    },
    {
      "cell_type": "markdown",
      "metadata": {},
      "source": [
        "OpenAI のパッケージをインストール (環境ごとに一度だけ実行)"
      ]
    },
    {
      "cell_type": "code",
      "execution_count": null,
      "metadata": {},
      "outputs": [],
      "source": [
        "# !pip install openai"
      ]
    },
    {
      "cell_type": "code",
      "execution_count": null,
      "metadata": {},
      "outputs": [],
      "source": [
        "import matplotlib.pyplot as plt\n",
        "from matplotlib.image import imread\n",
        "from PIL import Image"
      ]
    },
    {
      "cell_type": "markdown",
      "metadata": {},
      "source": [
        "画像を表示するためのヘルパー関数 (少し力業)"
      ]
    },
    {
      "cell_type": "code",
      "execution_count": null,
      "metadata": {},
      "outputs": [],
      "source": [
        "def showImages(images, titles):\n",
        "    count = len(titles)\n",
        "    \n",
        "    fig = plt.figure()\n",
        "    fig.set_figwidth(3 * count)\n",
        "    fig.set_figheight(2 * count)\n",
        "\n",
        "    for i in range(count):\n",
        "        ax = fig.add_subplot(1, count, i + 1)\n",
        "        ax.set_title(titles[i])\n",
        "        ax.imshow(images[i])\n",
        "        ax.axis('off')\n",
        "\n",
        "    fig.show()"
      ]
    },
    {
      "cell_type": "code",
      "execution_count": null,
      "metadata": {
        "gather": {
          "logged": 1668420299405
        },
        "jupyter": {
          "outputs_hidden": false,
          "source_hidden": false
        },
        "nteract": {
          "transient": {
            "deleting": false
          }
        }
      },
      "outputs": [],
      "source": [
        "import openai\n",
        "\n",
        "import requests\n",
        "import io\n",
        "from dotenv import load_dotenv"
      ]
    },
    {
      "cell_type": "markdown",
      "metadata": {},
      "source": [
        "API Key を設定"
      ]
    },
    {
      "cell_type": "code",
      "execution_count": null,
      "metadata": {},
      "outputs": [],
      "source": [
        "load_dotenv()\n",
        "openai.api_key = os.getenv('OPENAI_API_KEY')"
      ]
    },
    {
      "cell_type": "markdown",
      "metadata": {},
      "source": [
        "---"
      ]
    },
    {
      "cell_type": "markdown",
      "metadata": {},
      "source": [
        "## テキストの内容に応じた画像を生成"
      ]
    },
    {
      "cell_type": "code",
      "execution_count": null,
      "metadata": {
        "gather": {
          "logged": 1668420305405
        },
        "jupyter": {
          "outputs_hidden": false,
          "source_hidden": false
        },
        "nteract": {
          "transient": {
            "deleting": false
          }
        }
      },
      "outputs": [],
      "source": [
        "response_c = openai.Image.create(\n",
        "  prompt=\"日向ぼっこしている猫2匹\",\n",
        "  n=2,\n",
        "  size=\"1024x1024\"\n",
        ")"
      ]
    },
    {
      "cell_type": "code",
      "execution_count": null,
      "metadata": {},
      "outputs": [],
      "source": [
        "images = [\n",
        "    Image.open(io.BytesIO(requests.get(response_c['data'][0]['url']).content)),\n",
        "    Image.open(io.BytesIO(requests.get(response_c['data'][1]['url']).content))\n",
        "]\n",
        "titles = ['Image 1', 'Image 2']\n",
        "\n",
        "showImages(images, titles)"
      ]
    },
    {
      "cell_type": "markdown",
      "metadata": {},
      "source": [
        "---"
      ]
    },
    {
      "cell_type": "markdown",
      "metadata": {},
      "source": [
        "## 元画像から類似の画像を生成"
      ]
    },
    {
      "cell_type": "code",
      "execution_count": null,
      "metadata": {
        "gather": {
          "logged": 1668420307948
        },
        "jupyter": {
          "outputs_hidden": false,
          "source_hidden": false
        },
        "nteract": {
          "transient": {
            "deleting": false
          }
        }
      },
      "outputs": [],
      "source": [
        "sourcename = 'source.png'"
      ]
    },
    {
      "cell_type": "code",
      "execution_count": null,
      "metadata": {
        "gather": {
          "logged": 1668420318107
        }
      },
      "outputs": [],
      "source": [
        "response_v = openai.Image.create_variation(\n",
        "  image=open(sourcename, \"rb\"),\n",
        "  n=2,\n",
        "  size=\"1024x1024\"\n",
        ")"
      ]
    },
    {
      "cell_type": "code",
      "execution_count": null,
      "metadata": {},
      "outputs": [],
      "source": [
        "images = [\n",
        "    imread(sourcename),\n",
        "    Image.open(io.BytesIO(requests.get(response_v['data'][0]['url']).content)),\n",
        "    Image.open(io.BytesIO(requests.get(response_v['data'][1]['url']).content))\n",
        "]\n",
        "titles = ['Source', 'Image 1', 'Image 2']\n",
        "\n",
        "showImages(images, titles)"
      ]
    },
    {
      "cell_type": "markdown",
      "metadata": {},
      "source": [
        "---"
      ]
    },
    {
      "cell_type": "markdown",
      "metadata": {},
      "source": [
        "## 元画像に対してマスクの箇所をテキストの内容で補完した画像を生成"
      ]
    },
    {
      "cell_type": "code",
      "execution_count": null,
      "metadata": {
        "gather": {
          "logged": 1668421088620
        },
        "jupyter": {
          "outputs_hidden": false,
          "source_hidden": false
        },
        "nteract": {
          "transient": {
            "deleting": false
          }
        }
      },
      "outputs": [],
      "source": [
        "maskname = 'mask.png'"
      ]
    },
    {
      "cell_type": "code",
      "execution_count": null,
      "metadata": {
        "gather": {
          "logged": 1668424289143
        },
        "jupyter": {
          "outputs_hidden": false,
          "source_hidden": false
        },
        "nteract": {
          "transient": {
            "deleting": false
          }
        }
      },
      "outputs": [],
      "source": [
        "response_e = openai.Image.create_edit(\n",
        "  image=open(sourcename, \"rb\"),\n",
        "  mask=open(maskname, \"rb\"),\n",
        "  prompt=\"セミロングの日本人女性が笑顔で講演している\",\n",
        "  n=2,\n",
        "  size=\"1024x1024\"\n",
        ")"
      ]
    },
    {
      "cell_type": "code",
      "execution_count": null,
      "metadata": {},
      "outputs": [],
      "source": [
        "images = [\n",
        "    imread(sourcename),\n",
        "    imread(maskname),\n",
        "    Image.open(io.BytesIO(requests.get(response_e['data'][0]['url']).content)),\n",
        "    Image.open(io.BytesIO(requests.get(response_e['data'][1]['url']).content))\n",
        "]\n",
        "titles = ['Source', 'Mask', 'Image 1', 'Image 2']\n",
        "\n",
        "showImages(images, titles)"
      ]
    }
  ],
  "metadata": {
    "kernel_info": {
      "name": "python310-sdkv2"
    },
    "kernelspec": {
      "display_name": "Python 3.10.8 ('OpenAIHol')",
      "language": "python",
      "name": "python3"
    },
    "language_info": {
      "codemirror_mode": {
        "name": "ipython",
        "version": 3
      },
      "file_extension": ".py",
      "mimetype": "text/x-python",
      "name": "python",
      "nbconvert_exporter": "python",
      "pygments_lexer": "ipython3",
      "version": "3.10.8"
    },
    "microsoft": {
      "host": {
        "AzureML": {
          "notebookHasBeenCompleted": true
        }
      }
    },
    "nteract": {
      "version": "nteract-front-end@1.0.0"
    },
    "vscode": {
      "interpreter": {
        "hash": "871bc8bda144b5344a91468504d335828868bad85e14be278c1cbfb2d49249b1"
      }
    }
  },
  "nbformat": 4,
  "nbformat_minor": 2
}
