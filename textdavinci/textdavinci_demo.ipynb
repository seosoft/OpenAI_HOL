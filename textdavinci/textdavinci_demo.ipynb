{
 "cells": [
  {
   "cell_type": "code",
   "execution_count": 1,
   "metadata": {},
   "outputs": [],
   "source": [
    "import os\n",
    "from dotenv import load_dotenv\n",
    "import openai"
   ]
  },
  {
   "cell_type": "code",
   "execution_count": 2,
   "metadata": {},
   "outputs": [],
   "source": [
    "load_dotenv()\n",
    "openai.api_key = os.getenv(\"OPENAI_API_KEY\")"
   ]
  },
  {
   "cell_type": "code",
   "execution_count": 3,
   "metadata": {},
   "outputs": [],
   "source": [
    "response_002 = openai.Completion.create(\n",
    "  model=\"text-davinci-002\",\n",
    "  prompt=\"OpenAIの特徴を5つ教えて\\n\",\n",
    "  max_tokens=4000,\n",
    "  temperature=0\n",
    ")"
   ]
  },
  {
   "cell_type": "code",
   "execution_count": 4,
   "metadata": {},
   "outputs": [],
   "source": [
    "# response_002"
   ]
  },
  {
   "cell_type": "code",
   "execution_count": 5,
   "metadata": {},
   "outputs": [
    {
     "name": "stdout",
     "output_type": "stream",
     "text": [
      "\n",
      "1. OpenAI is a research company that focuses on artificial intelligence (AI) and machine learning.\n",
      "\n",
      "2. The company was founded by several co-founders, including Jack Hughes (a co-founder of Akamai Technologies) and Elon Musk (the founder of Tesla, SpaceX, and several other startups).\n",
      "\n",
      "3. OpenAI's goal is to \"advance digital intelligence in the way that is most likely to benefit humanity as a whole.\"\n",
      "\n",
      "4. OpenAI has been involved in some impressive AI achievements, such as creating a successful 3D game playing agent called Dippy and creating an algorithm that can efficiently navigate 3D environments.\n",
      "\n",
      "5. OpenAI is also well-known for its transparency and openness, sharing its research with the public and releasing its code and data sets to the community.\n"
     ]
    }
   ],
   "source": [
    "print(response_002['choices'][0]['text'])"
   ]
  },
  {
   "cell_type": "code",
   "execution_count": 6,
   "metadata": {},
   "outputs": [],
   "source": [
    "response_003 = openai.Completion.create(\n",
    "  model=\"text-davinci-003\",\n",
    "  prompt=\"OpenAIの特徴を5つ教えて\\n\",\n",
    "  temperature=0.7,\n",
    "  max_tokens=4000,\n",
    "  top_p=1,\n",
    "  frequency_penalty=0,\n",
    "  presence_penalty=0\n",
    ")"
   ]
  },
  {
   "cell_type": "code",
   "execution_count": 7,
   "metadata": {},
   "outputs": [],
   "source": [
    "# response_003"
   ]
  },
  {
   "cell_type": "code",
   "execution_count": 8,
   "metadata": {},
   "outputs": [
    {
     "name": "stdout",
     "output_type": "stream",
     "text": [
      "\n",
      "1. 強力な学習能力：OpenAIは、深い学習モデルを使用して、複雑なタスクを実行できるようにするために開発されました。\n",
      "\n",
      "2. 自動化：OpenAIは、ジョブを自動化するための複数のツールを提供しています。\n",
      "\n",
      "3. スケーラビリティ：OpenAIは、大規模なデータセットを効率的に処理できるように設計されています。\n",
      "\n",
      "4. クラウド対応：OpenAIは、クラウドサービスを使用して機械学習を実行することができます。\n",
      "\n",
      "5. 汎用性：OpenAIは、様々なアプリケーションやデバイスで使用することができ、さまざまな機能をサポートします。\n"
     ]
    }
   ],
   "source": [
    "print(response_003['choices'][0]['text'])"
   ]
  }
 ],
 "metadata": {
  "kernelspec": {
   "display_name": "Python 3.10.8 ('OpenAIHol')",
   "language": "python",
   "name": "python3"
  },
  "language_info": {
   "codemirror_mode": {
    "name": "ipython",
    "version": 3
   },
   "file_extension": ".py",
   "mimetype": "text/x-python",
   "name": "python",
   "nbconvert_exporter": "python",
   "pygments_lexer": "ipython3",
   "version": "3.10.8"
  },
  "orig_nbformat": 4,
  "vscode": {
   "interpreter": {
    "hash": "871bc8bda144b5344a91468504d335828868bad85e14be278c1cbfb2d49249b1"
   }
  }
 },
 "nbformat": 4,
 "nbformat_minor": 2
}
